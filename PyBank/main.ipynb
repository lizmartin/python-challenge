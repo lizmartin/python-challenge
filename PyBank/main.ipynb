{
 "cells": [
  {
   "cell_type": "code",
   "execution_count": 30,
   "metadata": {},
   "outputs": [
    {
     "ename": "TypeError",
     "evalue": "bad operand type for abs(): 'list'",
     "output_type": "error",
     "traceback": [
      "\u001b[0;31m---------------------------------------------------------------------------\u001b[0m",
      "\u001b[0;31mTypeError\u001b[0m                                 Traceback (most recent call last)",
      "\u001b[1;32m/Users/lizmartin-strong/GitHub/python_challenge/python-challenge/PyBank/main.ipynb Cell 1\u001b[0m line \u001b[0;36m2\n\u001b[1;32m     <a href='vscode-notebook-cell:/Users/lizmartin-strong/GitHub/python_challenge/python-challenge/PyBank/main.ipynb#W0sZmlsZQ%3D%3D?line=21'>22</a>\u001b[0m \u001b[39mfor\u001b[39;00m i \u001b[39min\u001b[39;00m \u001b[39mrange\u001b[39m(\u001b[39mlen\u001b[39m(data)):\n\u001b[1;32m     <a href='vscode-notebook-cell:/Users/lizmartin-strong/GitHub/python_challenge/python-challenge/PyBank/main.ipynb#W0sZmlsZQ%3D%3D?line=22'>23</a>\u001b[0m     \u001b[39m# iterate through all indexes, but starting from the index `i+1`\u001b[39;00m\n\u001b[1;32m     <a href='vscode-notebook-cell:/Users/lizmartin-strong/GitHub/python_challenge/python-challenge/PyBank/main.ipynb#W0sZmlsZQ%3D%3D?line=23'>24</a>\u001b[0m     \u001b[39mfor\u001b[39;00m j \u001b[39min\u001b[39;00m \u001b[39mrange\u001b[39m(i \u001b[39m+\u001b[39m \u001b[39m1\u001b[39m, \u001b[39mlen\u001b[39m(data)):\n\u001b[0;32m---> <a href='vscode-notebook-cell:/Users/lizmartin-strong/GitHub/python_challenge/python-challenge/PyBank/main.ipynb#W0sZmlsZQ%3D%3D?line=24'>25</a>\u001b[0m         d \u001b[39m=\u001b[39m \u001b[39mabs\u001b[39;49m(data[i] \u001b[39m+\u001b[39;49m data[j])\n\u001b[1;32m     <a href='vscode-notebook-cell:/Users/lizmartin-strong/GitHub/python_challenge/python-challenge/PyBank/main.ipynb#W0sZmlsZQ%3D%3D?line=25'>26</a>\u001b[0m         \u001b[39mif\u001b[39;00m d \u001b[39m>\u001b[39m max_d:\n\u001b[1;32m     <a href='vscode-notebook-cell:/Users/lizmartin-strong/GitHub/python_challenge/python-challenge/PyBank/main.ipynb#W0sZmlsZQ%3D%3D?line=26'>27</a>\u001b[0m             \u001b[39m# memorize everything if the distance is larger than what we know\u001b[39;00m\n\u001b[1;32m     <a href='vscode-notebook-cell:/Users/lizmartin-strong/GitHub/python_challenge/python-challenge/PyBank/main.ipynb#W0sZmlsZQ%3D%3D?line=27'>28</a>\u001b[0m             max_i, max_j, max_d \u001b[39m=\u001b[39m i, j, \u001b[39mabs\u001b[39m(d)\n",
      "\u001b[0;31mTypeError\u001b[0m: bad operand type for abs(): 'list'"
     ]
    }
   ],
   "source": [
    "#import the os module\n",
    "import os\n",
    "#module for reading csv\n",
    "import csv\n",
    "\n",
    "csvpath = os.path.join('..', 'Resources', '/Users/lizmartin-strong/GitHub/python_challenge/python-challenge/PyBank/Resources/budget_data.csv')\n",
    "\n",
    "\n",
    "#open the csv\n",
    "with open(csvpath, encoding='utf-8') as csvfile:\n",
    "        csvreader = csv.reader(csvfile, delimiter=\",\")\n",
    "        csv_header= next(csvreader)\n",
    "        \n",
    "\n",
    "        data = list(csvreader)\n",
    "        for row in data:\n",
    "\n",
    "\n",
    "        #months =len(data)\n",
    "        #print(\"Total Months:\", months)\n",
    "                \n",
    "\n"
   ]
  },
  {
   "cell_type": "code",
   "execution_count": null,
   "metadata": {},
   "outputs": [],
   "source": [
    "def "
   ]
  },
  {
   "cell_type": "code",
   "execution_count": 24,
   "metadata": {},
   "outputs": [
    {
     "ename": "SyntaxError",
     "evalue": "invalid syntax. Perhaps you forgot a comma? (263157841.py, line 4)",
     "output_type": "error",
     "traceback": [
      "\u001b[0;36m  Cell \u001b[0;32mIn[24], line 4\u001b[0;36m\u001b[0m\n\u001b[0;31m    print(f\"Net Total:\" {sum(profit_loss)})\u001b[0m\n\u001b[0m          ^\u001b[0m\n\u001b[0;31mSyntaxError\u001b[0m\u001b[0;31m:\u001b[0m invalid syntax. Perhaps you forgot a comma?\n"
     ]
    }
   ],
   "source": [
    "#def net_total(csvreader):\n",
    "        date= str(csvreader[0])\n",
    "        profit_loss = int(csvreader[1])\n",
    "        print(f\"Net Total:\": {sum(profit_loss)})\n",
    "\n",
    "\n",
    "#net total amount of profit / losses over the entire time period\n",
    "        \n",
    "\n",
    "\n"
   ]
  },
  {
   "cell_type": "code",
   "execution_count": 20,
   "metadata": {},
   "outputs": [],
   "source": [
    "#write all results to CSV (starter code needs to be modified)\n",
    "\n",
    "# Dependencies\n",
    "import os\n",
    "import csv\n",
    "\n",
    "# Specify the file to write to\n",
    "output_path = os.path.join(\"..\", \"output\", \"/Users/lizmartin-strong/GitHub/python_challenge/python-challenge/PyBank/Analysis/analysis.csv\")\n",
    "\n",
    "# Open the file using \"write\" mode. Specify the variable to hold the contents\n",
    "with open(output_path, 'w') as csvfile:\n",
    "\n",
    "    # Initialize csv.writer\n",
    "    csvwriter = csv.writer(csvfile, delimiter=',')\n",
    "\n",
    "    # Write the first row (column headers)\n",
    "    csvwriter.writerow(['First Name', 'Last Name', 'SSN'])\n",
    "\n",
    "    # Write the second row\n",
    "    csvwriter.writerow(['Caleb', 'Frost', '505-80-2901'])\n"
   ]
  }
 ],
 "metadata": {
  "kernelspec": {
   "display_name": "base",
   "language": "python",
   "name": "python3"
  },
  "language_info": {
   "codemirror_mode": {
    "name": "ipython",
    "version": 3
   },
   "file_extension": ".py",
   "mimetype": "text/x-python",
   "name": "python",
   "nbconvert_exporter": "python",
   "pygments_lexer": "ipython3",
   "version": "3.12.1"
  }
 },
 "nbformat": 4,
 "nbformat_minor": 2
}
