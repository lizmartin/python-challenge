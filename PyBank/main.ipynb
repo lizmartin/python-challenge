{
 "cells": [
  {
   "cell_type": "code",
   "execution_count": null,
   "metadata": {},
   "outputs": [],
   "source": [
    "#import the os module\n",
    "import os\n",
    "#module for reading csv\n",
    "import csv\n",
    "\n",
    "csvpath = os.path.join('..', 'Resources', '/Users/lizmartin-strong/GitHub/python_challenge/python-challenge/PyBank/Resources/budget_data.csv')\n",
    "\n",
    "\n",
    "#open the csv\n",
    "with open(csvpath, encoding='utf-8') as csvfile:\n",
    "        csvreader = csv.reader(csvfile, delimiter=\",\")\n",
    "        csv_header= next(csvreader)\n",
    "        \n",
    "        #create variables\n",
    "        ledger = list(csvreader)\n",
    "        months =len(ledger)\n",
    "        date = str(ledger[0])\n",
    "        revenue = int(ledger[1])\n",
    "\n",
    "        #do you have to set a starting value for variables in python? Don't think so if I can define two rows. \n",
    "        #monthly_change = 0\n",
    "        #greatest_increase = 0\n",
    "        #greatest_decrease = 0\n",
    "        #net_total = 0\n",
    "        \n",
    "        #loop1 through all rows\n",
    "        for row in ledger:\n",
    "                #find the monthly_change between two rows. save to variable monthly_change.\n",
    "                #monthly_change = \n",
    "\n",
    "                        #loop2 if monthly_change >= greatest_increase, save as greatest_increase\n",
    "                \n",
    "                                #elif, monthly_change <= greatest_decrease, save as greatest_decrease\n",
    "                \n",
    "                                #else add monthly_change to net_total\n",
    "        \n",
    "                #reset monthly change, move to next row."
   ]
  },
  {
   "cell_type": "code",
   "execution_count": null,
   "metadata": {},
   "outputs": [],
   "source": [
    "        #"
   ]
  },
  {
   "cell_type": "code",
   "execution_count": 20,
   "metadata": {},
   "outputs": [],
   "source": [
    "#write all results to CSV (starter code needs to be modified)\n",
    "\n",
    "# Specify the file to write to\n",
    "output_path = os.path.join(\"..\", \"output\", \"/Users/lizmartin-strong/GitHub/python_challenge/python-challenge/PyBank/Analysis/analysis.csv\")\n",
    "\n",
    "# Open the file using \"write\" mode. Specify the variable to hold the contents\n",
    "with open(output_path, 'w') as analysis:\n",
    "\n",
    "    # Initialize csv.writer\n",
    "    csvwriter = csv.writer(analysis, delimiter=',')\n",
    "\n",
    "    # Write the first row (column headers)\n",
    "    csvwriter.writerow(['First Name', 'Last Name', 'SSN'])\n",
    "\n",
    "    # Write the second row\n",
    "    csvwriter.writerow(['Caleb', 'Frost', '505-80-2901'])\n"
   ]
  }
 ],
 "metadata": {
  "kernelspec": {
   "display_name": "base",
   "language": "python",
   "name": "python3"
  },
  "language_info": {
   "codemirror_mode": {
    "name": "ipython",
    "version": 3
   },
   "file_extension": ".py",
   "mimetype": "text/x-python",
   "name": "python",
   "nbconvert_exporter": "python",
   "pygments_lexer": "ipython3",
   "version": "3.12.1"
  }
 },
 "nbformat": 4,
 "nbformat_minor": 2
}
