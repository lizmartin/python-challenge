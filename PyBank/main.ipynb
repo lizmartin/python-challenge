{
 "cells": [
  {
   "cell_type": "code",
   "execution_count": 20,
   "metadata": {},
   "outputs": [
    {
     "name": "stdout",
     "output_type": "stream",
     "text": [
      "0\n",
      "0\n"
     ]
    }
   ],
   "source": [
    "#import the os module\n",
    "import os\n",
    "#module for reading csv\n",
    "import csv\n",
    "\n",
    "csvpath = os.path.join('..', 'Resources', '/Users/lizmartin-strong/GitHub/python_challenge/python-challenge/PyBank/Resources/budget_data.csv')\n",
    "\n",
    "#open the csv\n",
    "with open(csvpath, encoding='utf-8') as csvfile:\n",
    "        csvreader = csv.reader(csvfile, delimiter=\",\")\n",
    "        csv_header= next(csvreader)\n",
    " \n",
    "        #create variables\n",
    "        ledger = list(csvreader)\n",
    "        months =len(ledger)\n",
    "        date = str(ledger[0][0])\n",
    "        revenue = int(ledger[0][1])\n",
    "        greatest_increase = 0\n",
    "        greatest_decrease = 0\n",
    "        net_total = []\n",
    "        last_month = 0\n",
    "#loop through all rows\n",
    "for row in ledger:\n",
    "        #find the profit_change between two rows. save to monthly_change. Could also just create a list that is monthly_change and perform fxns on it.\n",
    "        this_month = revenue\n",
    "        profit_change = this_month - last_month\n",
    "        last_month = revenue\n",
    "\n",
    "#append monthly_change list\n",
    "net_total.append((profit_change))\n",
    "\n",
    "if profit_change >= greatest_increase == greatest_increase:\n",
    "        if profit_change <= greatest_decrease == greatest_decrease:\n",
    "                print(greatest_decrease)\n",
    "                print(greatest_increase)       \n",
    "\n",
    "clear_output: profit_change\n",
    "next: row \n",
    "\n",
    "#find the average monthly change.\n",
    "average_monthly_change = sum(net_total)/months\n",
    "\n",
    "#write all results to CSV\n",
    "# Specify the file to write to\n",
    "output_path = os.path.join(\"..\", \"output\", \"/Users/lizmartin-strong/GitHub/python_challenge/python-challenge/PyBank/Analysis/analysis.csv\")\n",
    "\n",
    "# Open the file using \"write\" mode. Specify the variable to hold the contents\n",
    "with open(output_path, 'w') as analysis:\n",
    "\n",
    "    # Initialize csv.writer\n",
    "    csvwriter = csv.writer(analysis, delimiter=',')\n",
    "\n",
    "    # Write the first row (column headers)\n",
    "    csvwriter.writerow([\"Financial Analysis\"])\n",
    "    csvwriter.writerow([\"------------------------------------------------\"])\n",
    "    csvwriter.writerow([\"Total Months:\", months])\n",
    "    csvwriter.writerow([\"Total:\", sum(net_total)])\n",
    "    csvwriter.writerow([\"Average Change:\", average_monthly_change])\n",
    "    csvwriter.writerow([\"Greatest Increase in Profits:\", greatest_increase])\n",
    "    csvwriter.writerow([\"Greatest Decrease in Profits:\", greatest_increase])\n"
   ]
  }
 ],
 "metadata": {
  "kernelspec": {
   "display_name": "base",
   "language": "python",
   "name": "python3"
  },
  "language_info": {
   "codemirror_mode": {
    "name": "ipython",
    "version": 3
   },
   "file_extension": ".py",
   "mimetype": "text/x-python",
   "name": "python",
   "nbconvert_exporter": "python",
   "pygments_lexer": "ipython3",
   "version": "3.12.1"
  }
 },
 "nbformat": 4,
 "nbformat_minor": 2
}
