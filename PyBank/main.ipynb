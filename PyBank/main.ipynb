{
 "cells": [
  {
   "cell_type": "code",
   "execution_count": 21,
   "metadata": {},
   "outputs": [
    {
     "name": "stdout",
     "output_type": "stream",
     "text": [
      "Total Months: 86\n"
     ]
    }
   ],
   "source": [
    "#import the os module\n",
    "import os\n",
    "#module for reading csv\n",
    "import csv\n",
    "\n",
    "csvpath = os.path.join('..', 'Resources', '/Users/lizmartin-strong/GitHub/python_challenge/python-challenge/PyBank/Resources/budget_data.csv')\n",
    "\n",
    "#open the csv\n",
    "with open(csvpath, encoding='utf-8') as csvfile:\n",
    "        csvreader = csv.reader(csvfile, delimiter=\",\")\n",
    "        csv_header= next(csvreader)\n",
    "        data = list(csvreader)\n",
    "        months =len(data)\n",
    "        print(\"Total Months:\", months)"
   ]
  },
  {
   "cell_type": "code",
   "execution_count": 24,
   "metadata": {},
   "outputs": [
    {
     "ename": "SyntaxError",
     "evalue": "invalid syntax. Perhaps you forgot a comma? (263157841.py, line 4)",
     "output_type": "error",
     "traceback": [
      "\u001b[0;36m  Cell \u001b[0;32mIn[24], line 4\u001b[0;36m\u001b[0m\n\u001b[0;31m    print(f\"Net Total:\" {sum(profit_loss)})\u001b[0m\n\u001b[0m          ^\u001b[0m\n\u001b[0;31mSyntaxError\u001b[0m\u001b[0;31m:\u001b[0m invalid syntax. Perhaps you forgot a comma?\n"
     ]
    }
   ],
   "source": [
    "def net_total(csvreader):\n",
    "        date= str(csvreader[0])\n",
    "        profit_loss = int(csvreader[1])\n",
    "        print(f\"Net Total:\": {sum(profit_loss)})\n",
    "\n",
    "\n",
    "#net total amount of profit / losses over the entire time period\n",
    "        \n",
    "\n",
    "\n"
   ]
  },
  {
   "cell_type": "code",
   "execution_count": 20,
   "metadata": {},
   "outputs": [],
   "source": [
    "#write all results to CSV (starter code needs to be modified)\n",
    "\n",
    "# Dependencies\n",
    "import os\n",
    "import csv\n",
    "\n",
    "# Specify the file to write to\n",
    "output_path = os.path.join(\"..\", \"output\", \"/Users/lizmartin-strong/GitHub/python_challenge/python-challenge/PyBank/Analysis/analysis.csv\")\n",
    "\n",
    "# Open the file using \"write\" mode. Specify the variable to hold the contents\n",
    "with open(output_path, 'w') as csvfile:\n",
    "\n",
    "    # Initialize csv.writer\n",
    "    csvwriter = csv.writer(csvfile, delimiter=',')\n",
    "\n",
    "    # Write the first row (column headers)\n",
    "    csvwriter.writerow(['First Name', 'Last Name', 'SSN'])\n",
    "\n",
    "    # Write the second row\n",
    "    csvwriter.writerow(['Caleb', 'Frost', '505-80-2901'])\n"
   ]
  }
 ],
 "metadata": {
  "kernelspec": {
   "display_name": "base",
   "language": "python",
   "name": "python3"
  },
  "language_info": {
   "codemirror_mode": {
    "name": "ipython",
    "version": 3
   },
   "file_extension": ".py",
   "mimetype": "text/x-python",
   "name": "python",
   "nbconvert_exporter": "python",
   "pygments_lexer": "ipython3",
   "version": "3.12.1"
  }
 },
 "nbformat": 4,
 "nbformat_minor": 2
}
