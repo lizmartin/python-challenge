{
 "cells": [
  {
   "cell_type": "code",
   "execution_count": 28,
   "metadata": {},
   "outputs": [
    {
     "name": "stdout",
     "output_type": "stream",
     "text": [
      "Jan-10\n",
      "1088983\n"
     ]
    }
   ],
   "source": [
    "#import the os module\n",
    "import os\n",
    "#module for reading csv\n",
    "import csv\n",
    "\n",
    "csvpath = os.path.join('..', 'Resources', '/Users/lizmartin-strong/GitHub/python_challenge/python-challenge/PyBank/Resources/budget_data.csv')\n",
    "\n",
    "#open the csv\n",
    "with open(csvpath, encoding='utf-8') as csvfile:\n",
    "        csvreader = csv.reader(csvfile, delimiter=\",\")\n",
    "        csv_header= next(csvreader)\n",
    " \n",
    "        #create variables\n",
    "        ledger = list(csvreader)\n",
    "        months =len(ledger)\n",
    "        date = str(ledger[0][0])\n",
    "        revenue = int(ledger[0][1])\n",
    "        greatest_increase = 0\n",
    "        greatest_decrease = 0\n",
    "        net_total = []\n",
    "        last_month = 0\n",
    "\n",
    "print(date)\n",
    "print(revenue)"
   ]
  },
  {
   "cell_type": "code",
   "execution_count": 29,
   "metadata": {},
   "outputs": [
    {
     "name": "stdout",
     "output_type": "stream",
     "text": [
      "1088983\n",
      "1088983\n",
      "0\n"
     ]
    }
   ],
   "source": [
    "        #loop through all rows\n",
    "for row in ledger:\n",
    "        #find the profit_change between two rows. save to monthly_change. Could also just create a list that is monthly_change and perform fxns on it.\n",
    "                this_month = revenue\n",
    "                profit_change = this_month - last_month\n",
    "                last_month = revenue\n",
    "\n",
    "print(last_month)\n",
    "print(this_month)\n",
    "print(profit_change)"
   ]
  },
  {
   "cell_type": "code",
   "execution_count": 30,
   "metadata": {},
   "outputs": [],
   "source": [
    "                #append monthly_change list\n",
    "#monthly_change.append((this_month))\n",
    "#print(monthly_change)"
   ]
  },
  {
   "cell_type": "code",
   "execution_count": 36,
   "metadata": {},
   "outputs": [
    {
     "name": "stdout",
     "output_type": "stream",
     "text": [
      "0\n",
      "0\n"
     ]
    }
   ],
   "source": [
    "if profit_change >= greatest_increase == greatest_increase:\n",
    "        if profit_change <= greatest_decrease == greatest_decrease:\n",
    "        print(greatest_decrease)\n",
    "        print(greatest_increase)              \n",
    "        \n",
    "#add profit_change to net_total\n",
    "        \n",
    "        \n",
    "\n",
    "#reset monthly change, move to next row."
   ]
  },
  {
   "cell_type": "code",
   "execution_count": null,
   "metadata": {},
   "outputs": [],
   "source": [
    "        #find the average monthly change.\n",
    "        #average_monthly_change = net_total/months"
   ]
  },
  {
   "cell_type": "code",
   "execution_count": null,
   "metadata": {},
   "outputs": [],
   "source": [
    "#write all results to CSV (starter code needs to be modified)\n",
    "\n",
    "# Specify the file to write to\n",
    "output_path = os.path.join(\"..\", \"output\", \"/Users/lizmartin-strong/GitHub/python_challenge/python-challenge/PyBank/Analysis/analysis.csv\")\n",
    "\n",
    "# Open the file using \"write\" mode. Specify the variable to hold the contents\n",
    "with open(output_path, 'w') as analysis:\n",
    "\n",
    "    # Initialize csv.writer\n",
    "    csvwriter = csv.writer(analysis, delimiter=',')\n",
    "\n",
    "    # Write the first row (column headers)\n",
    "    csvwriter.writerow([\"Financial Analysis\"])\n",
    "    csvwriter.writerow([\"------------------------------------------------\"])\n",
    "    csvwriter.writerow([\"Total Months:\", months])\n",
    "    #csvwriter.writerow([\"Total:\", VARIABLE])\n",
    "    #csvwriter.writerow([\"Average Change:\", average_monthly_change])\n",
    "    #csvwriter.writerow([\"Greatest Increase in Profits:\", VARIABLE])\n",
    "    #csvwriter.writerow([\"Greatest Decrease in Profits:\", VARIABLE])\n",
    "\n"
   ]
  }
 ],
 "metadata": {
  "kernelspec": {
   "display_name": "base",
   "language": "python",
   "name": "python3"
  },
  "language_info": {
   "codemirror_mode": {
    "name": "ipython",
    "version": 3
   },
   "file_extension": ".py",
   "mimetype": "text/x-python",
   "name": "python",
   "nbconvert_exporter": "python",
   "pygments_lexer": "ipython3",
   "version": "3.12.1"
  }
 },
 "nbformat": 4,
 "nbformat_minor": 2
}
