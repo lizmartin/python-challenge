{
 "cells": [
  {
   "cell_type": "code",
   "execution_count": 55,
   "metadata": {},
   "outputs": [
    {
     "name": "stdout",
     "output_type": "stream",
     "text": [
      "\n",
      "Charles Casper Stockham: 23.05% (85213)\n",
      "\n",
      "Diana DeGette: 73.81% (272892)\n",
      "\n",
      "Raymon Anthony Doane: 3.14% (11606)\n"
     ]
    }
   ],
   "source": [
    "#import the os module\n",
    "import os\n",
    "#module for reading csv\n",
    "import csv\n",
    "\n",
    "csvpath = os.path.join('Resources', '/Users/lizmartin-strong/GitHub/python_challenge/python-challenge/PyPoll/Resources/election_data.csv')\n",
    "\n",
    "#open the csv\n",
    "with open(csvpath, encoding='utf-8') as csvfile:\n",
    "        csvreader = csv.reader(csvfile, delimiter=\",\")\n",
    "        csv_header= next(csvreader)   \n",
    "\n",
    "        #create variables\n",
    "        votes = 0\n",
    "        candidate = []\n",
    "        percent_votes = []\n",
    "        candidate_votes = {}\n",
    "        winner = \" \"\n",
    "        most_votes = 0\n",
    "\n",
    "#loop through all rows; find total votes cast\n",
    "        for row in csvreader: \n",
    "                votes += 1\n",
    "\n",
    "    #populate candidate_votes dictionary with candidate's names & number of votes\n",
    "                if str(row[2]) not in candidate:\n",
    "                        candidate.append(row[2])\n",
    "                        candidate_votes[row[2]] = 0\n",
    "                candidate_votes[row[2]] += 1\n",
    "\n",
    "\n",
    "#create structure to store votes; find candidates an count votes\n",
    "for candidate in candidate_votes:\n",
    "        percent_votes.append(candidate_votes[candidate] / votes)\n",
    "\n",
    "#find the winner\n",
    "        if candidate_votes[candidate] > most_votes:\n",
    "            most_votes = candidate_votes[candidate]\n",
    "            winner = str(candidate)\n",
    "\n",
    "#calculate % for each candidate; print list and results\n",
    "vote_count = 0\n",
    "for candidate in candidate_votes:\n",
    "    print(f\"\\n{list(candidate_votes.keys())[vote_count]}: {round(percent_votes[vote_count] * 100, 2)}% ({candidate_votes[candidate]})\")\n",
    "    vote_count +=1\n",
    "\n",
    "#write all results to text file\n",
    "# Specify the file to write to\n",
    "output_path = os.path.join(\"..\", \"output\", \"/Users/lizmartin-strong/GitHub/python_challenge/python-challenge/PyPoll/Analysis/analysis.txt\")\n",
    "\n",
    "# Open the file using \"write\" mode. Specify the variable to hold the contents\n",
    "with open(output_path, 'w') as analysis:\n",
    "\n",
    "    #write to analysis\n",
    "        analysis.write(f\"Election Results\\n---------------------------\\n\")\n",
    "        analysis.write(f\"\\nTotal Votes: {votes} \\n---------------------------\\n\")\n",
    "        vote_count = 0\n",
    "        for candidate in candidate_votes:\n",
    "                analysis.write(f\"\\n{list(candidate_votes.keys())[vote_count]}: {round(percent_votes[vote_count] * 100, 2)}% ({candidate_votes[candidate]})\\n\")\n",
    "                vote_count +=1\n",
    "        analysis.write(f\"\\n---------------------------\\n\")\n",
    "        analysis.write(f\"Winner: , {winner} \\n----------------------------\\n\")"
   ]
  }
 ],
 "metadata": {
  "kernelspec": {
   "display_name": "base",
   "language": "python",
   "name": "python3"
  },
  "language_info": {
   "codemirror_mode": {
    "name": "ipython",
    "version": 3
   },
   "file_extension": ".py",
   "mimetype": "text/x-python",
   "name": "python",
   "nbconvert_exporter": "python",
   "pygments_lexer": "ipython3",
   "version": "3.12.1"
  }
 },
 "nbformat": 4,
 "nbformat_minor": 2
}
