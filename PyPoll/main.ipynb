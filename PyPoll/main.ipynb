{
 "cells": [
  {
   "cell_type": "code",
   "execution_count": null,
   "metadata": {},
   "outputs": [],
   "source": [
    "#import the os module\n",
    "import os\n",
    "#module for reading csv\n",
    "import csv\n",
    "\n",
    "csvpath = os.path.join('..', 'Resources', '/Users/lizmartin-strong/GitHub/python_challenge/python-challenge/PyPoll/Resources/election_data.csv')\n",
    "\n",
    "#open the csv\n",
    "with open(csvpath, encoding='utf-8') as csvfile:\n",
    "        csvreader = csv.reader(csvfile, delimiter=\",\")\n",
    "        csv_header= next(csvreader)\n",
    " \n",
    "        #create variables"
   ]
  },
  {
   "cell_type": "code",
   "execution_count": null,
   "metadata": {},
   "outputs": [],
   "source": [
    "#find the average monthly change.\n",
    "average_monthly_change = sum(pl_change)/months\n",
    "\n",
    "print(\"\\n Financial Analysis \\n------------------------\")\n",
    "print(f\"\\nTotal Months: \", len(pl_change))\n",
    "print(f\"\\nTotal: ${(net_total)}\")\n",
    "print(f\"\\nAverage Change: ${round(average_monthly_change,2)}\")\n",
    "print(f\"\\n\\nGreatest Increase in Profits: {greatest_increase_date} (${greatest_increase})\")\n",
    "print(f\"\\n\\nGreatest Decrease in Profits: {greatest_decrease_date} (${greatest_decrease})\")\n",
    "\n"
   ]
  },
  {
   "cell_type": "code",
   "execution_count": null,
   "metadata": {},
   "outputs": [],
   "source": [
    "#write all results to CSV\n",
    "# Specify the file to write to\n",
    "output_path = os.path.join(\"..\", \"output\", \"/Users/lizmartin-strong/GitHub/python_challenge/python-challenge/PyPoll/Analysis/analysis.csv\")\n",
    "\n",
    "# Open the file using \"write\" mode. Specify the variable to hold the contents\n",
    "with open(output_path, 'w') as analysis:\n",
    "\n",
    "    # Initialize csv.writer\n",
    "    csvwriter = csv.writer(analysis, delimiter=',')\n",
    "\n",
    "    # Write the first row (column headers)\n",
    "    csvwriter.writerow([\"Election Results\"])\n",
    "    csvwriter.writerow([\"------------------------------------------------\"])\n",
    "    #csvwriter.writerow([\"Total Votes:\", len(LIST)])\n",
    "    csvwriter.writerow([\"------------------------------------------------\"])\n",
    "    #csvwriter.writerow([f\"\\nCasper Stockham: ${round(average_monthly_change,2)}\"])\n",
    "    #csvwriter.writerow([f\"\\nDiana DeGette: ${round(average_monthly_change,2)}\"])\n",
    "    #csvwriter.writerow([f\"\\nRaymon Anthony Doane: ${round(average_monthly_change,2)}\"])\n",
    "    csvwriter.writerow([\"------------------------------------------------\"])\n",
    "    #csvwriter.writerow([\"Winner:\", VARIABLE])\n",
    "    csvwriter.writerow([\"------------------------------------------------\"])"
   ]
  }
 ],
 "metadata": {
  "language_info": {
   "name": "python"
  }
 },
 "nbformat": 4,
 "nbformat_minor": 2
}
